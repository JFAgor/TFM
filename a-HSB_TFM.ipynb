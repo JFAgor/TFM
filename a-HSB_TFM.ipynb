{
 "cells": [
  {
   "cell_type": "markdown",
   "metadata": {},
   "source": [
    "# HSB Analysis"
   ]
  },
  {
   "cell_type": "code",
   "execution_count": 15,
   "metadata": {
    "collapsed": false
   },
   "outputs": [
    {
     "name": "stdout",
     "output_type": "stream",
     "text": [
      "Using matplotlib backend: Qt5Agg\n"
     ]
    }
   ],
   "source": [
    "import glob\n",
    "import numpy as np\n",
    "import matplotlib.pyplot as plt\n",
    "from astropy.io import fits\n",
    "%matplotlib"
   ]
  },
  {
   "cell_type": "markdown",
   "metadata": {},
   "source": [
    "## Giving the path"
   ]
  },
  {
   "cell_type": "code",
   "execution_count": 18,
   "metadata": {
    "collapsed": true
   },
   "outputs": [],
   "source": [
    "path = '/home/feli/LSBs_TFM/images/Datos/' # Path a los datos de perfiles"
   ]
  },
  {
   "cell_type": "code",
   "execution_count": 19,
   "metadata": {
    "collapsed": true
   },
   "outputs": [],
   "source": [
    "path_Ctes = '/home/feli/LSBs_TFM/listas/'"
   ]
  },
  {
   "cell_type": "code",
   "execution_count": 91,
   "metadata": {
    "collapsed": true
   },
   "outputs": [],
   "source": [
    "path_HSB_Data = '/home/feli/LSBs_TFM/Anlzds/TFM/HSB/'"
   ]
  },
  {
   "cell_type": "markdown",
   "metadata": {},
   "source": [
    "## Reading the data"
   ]
  },
  {
   "cell_type": "code",
   "execution_count": 112,
   "metadata": {
    "collapsed": true
   },
   "outputs": [],
   "source": [
    "LSBs_list = sorted(glob.glob(path+'*.dat'))"
   ]
  },
  {
   "cell_type": "code",
   "execution_count": 113,
   "metadata": {
    "collapsed": true
   },
   "outputs": [],
   "source": [
    "Ctes_list = sorted(glob.glob(path_Ctes+'lista_run_a*'))"
   ]
  },
  {
   "cell_type": "markdown",
   "metadata": {},
   "source": [
    "## This is the pixel scale and Freeman criteria"
   ]
  },
  {
   "cell_type": "code",
   "execution_count": 22,
   "metadata": {
    "collapsed": true
   },
   "outputs": [],
   "source": [
    "lsb_Freeman = 21.65 #Freeman et al. 1970\n",
    "#NLSB = 21.0\n",
    "#lsb_R = 23.3 #μ$_e$(R) $>$ 23.3 R mag arcsec$^{−2}$)\n",
    "pscale = 0.396 #(\"/pix) from the SDSS data base"
   ]
  },
  {
   "cell_type": "markdown",
   "metadata": {},
   "source": [
    "## Saving RA, DEC values"
   ]
  },
  {
   "cell_type": "markdown",
   "metadata": {},
   "source": [
    "bucle = obj.tolist()\n",
    "j = 0\n",
    "len(bucle)\n",
    "#len(Ctes_list)\n",
    "#for j in range(Ctes_data):\n",
    "#    print(obj[j])"
   ]
  },
  {
   "cell_type": "markdown",
   "metadata": {},
   "source": [
    "i = 2\n",
    "a = i# + 1 # numero de galaxias\n",
    "\n",
    "Ctes_data = np.genfromtxt(Ctes_list[i], comments='#')[:,0:]\n",
    "\n",
    "\n",
    "obj = Ctes_data[:, 0]\n",
    "RA = Ctes_data[:, 2]\n",
    "DEC = Ctes_data[:, 3]\n",
    "\n",
    "while j < len(bucle):\n",
    "    Coordenates = str(RA[j]) + '    ' + str(DEC[j]) + '    '\n",
    "    HSBs_SDSS = open(path_Ctes+'RADEC_SDSS.dat', 'a') # Indicamos el valor 'w'.\n",
    "    HSBs_SDSS.write(Coordenates+'\\n')\n",
    "    HSBs_SDSS.close()\n",
    "    j = j + 1\n",
    "\n",
    "print(obj, RA, DEC)#746 - 551, ' a las que sacar los datos',"
   ]
  },
  {
   "cell_type": "markdown",
   "metadata": {},
   "source": [
    "## Coordenates"
   ]
  },
  {
   "cell_type": "code",
   "execution_count": 115,
   "metadata": {
    "collapsed": false
   },
   "outputs": [],
   "source": [
    "HSBs_data = path_Ctes+'HSB_SDSS.dat'\n",
    "Datos_HSBs = np.genfromtxt(HSBs_data, comments='#')[:,0:]"
   ]
  },
  {
   "cell_type": "code",
   "execution_count": 122,
   "metadata": {
    "collapsed": false
   },
   "outputs": [
    {
     "name": "stdout",
     "output_type": "stream",
     "text": [
      "24.0 54.5509 1.16911\n"
     ]
    }
   ],
   "source": [
    "obj = Datos_HSBs[:, 0]\n",
    "RA = Datos_HSBs[:, 1]\n",
    "DEC = Datos_HSBs[:, 2]\n",
    "#'''\n",
    "u = Datos_HSBs[:, 3]\n",
    "g = Datos_HSBs[:, 4]\n",
    "r = Datos_HSBs[:, 5]\n",
    "i_color = Datos_HSBs[:, 6]\n",
    "redshift = Datos_HSBs[:, 7]\n",
    "#'''\n",
    "print(obj[20], RA[20], DEC[20])#, u[232], g[232], r[232], i_color[232], redshift[232])"
   ]
  },
  {
   "cell_type": "markdown",
   "metadata": {},
   "source": [
    "## Reading the data for the SB profile"
   ]
  },
  {
   "cell_type": "code",
   "execution_count": 130,
   "metadata": {
    "collapsed": false
   },
   "outputs": [
    {
     "name": "stdout",
     "output_type": "stream",
     "text": [
      "024 24\n"
     ]
    }
   ],
   "source": [
    "i = 24\n",
    "j = 20\n",
    "a = i# + 1 # numero de galaxias\n",
    "\n",
    "LSBs_raw_data = np.genfromtxt(LSBs_list[i], comments='#')[:,0:]\n",
    "\n",
    "dat_name = LSBs_list[i][33:-4]#.astype(np.int16)\n",
    "print(dat_name, a)#746 - 551, ' a las que sacar los datos',"
   ]
  },
  {
   "cell_type": "code",
   "execution_count": 131,
   "metadata": {
    "collapsed": true
   },
   "outputs": [],
   "source": [
    "sma = LSBs_raw_data[:, 0] * pscale #Semi-major axis\n",
    "flux = LSBs_raw_data[:, 1]"
   ]
  },
  {
   "cell_type": "markdown",
   "metadata": {},
   "source": [
    "## Calculating the limiting magnitude, colour and absolute magnitude"
   ]
  },
  {
   "cell_type": "code",
   "execution_count": 132,
   "metadata": {
    "collapsed": false
   },
   "outputs": [
    {
     "name": "stdout",
     "output_type": "stream",
     "text": [
      "15.7339 16.7281 25.0232403467 182763744.428 -19.5813502361\n"
     ]
    }
   ],
   "source": [
    "##CÁLCULO DE LA MAGNITUD LÍMITE\n",
    "\n",
    "sigma = [4.842, 5.248, 6.349, 4.453, 5.434, 4.754, 4.507, 3.884, 6.407, 5.287]\n",
    "zero_mag = 30.0\n",
    "\n",
    "mu_lim = zero_mag - 2.5 * np.log10(3 * np.mean(sigma) / (pscale**2))\n",
    "mag_lim = str(obj[j]) + '    ' + str(sigma) + '    ' + str(np.mean(sigma)) + '    ' + str(mu_lim)# + '    ' +\n",
    "\n",
    "##CÁLCULO DE LOS COLORES\n",
    "\n",
    "m_B = g[j] + 0.39*(g[j]-r[j]) + 0.21 #sigma 0.03\n",
    "m_V = g[j] - 0.59*(g[j]-r[j]) - 0.01 #sigma 0.01\n",
    "#g_r = 1.02*(m_B-m_V) - 0.220\n",
    "\n",
    "##CÁLCULO DE LA MAGNITUD ABSOLUTA\n",
    "\n",
    "#v = H_0 * D, v = z * c => z * c = H_0 *D => D = (z * c) / H_0\n",
    "H_o = 67.3 # H0 de (67.3 ± 1.2) km/s/Mpc\n",
    "c = 3e5 # km / s\n",
    "\n",
    "d = ((redshift[j] * c) / H_o) * 1e6 # d tiene que ir en pc\n",
    "\n",
    "M_abs = m_B + 5. - 5. * np.log10(d) # Calculo M(B), μ = m − M = 5logd − 5  ==> M = m + 5 - 5*log10 d\n",
    "\n",
    "print(m_V, m_B, mu_lim, d, M_abs) "
   ]
  },
  {
   "cell_type": "markdown",
   "metadata": {},
   "source": [
    "## Flux plot"
   ]
  },
  {
   "cell_type": "code",
   "execution_count": 133,
   "metadata": {
    "collapsed": false
   },
   "outputs": [],
   "source": [
    "# JESTER et al 2005 for stars\n",
    "\n",
    "# Hago el cambio de r a g\n",
    "#B_V = 0.62 * (g[j] - r[j]) + 0.15 # For quasars \n",
    "#B = g_SDSS + 0.17 * (u[j] - g[j]) + 0.11# For quasars\n",
    "\n",
    "# FOR STARS WITH Rc - I_c < 1.15, AS INDICATE AT http://www.sdss3.org/dr8/algorithms/sdssUBVRITransform.php#Jester2005\n",
    "B_V = 0.98 * (g[j]-r[j]) + 0.22 #sigma 0.04\n",
    "g_SDSS = flux + 1.02 * B_V - 0.23\n",
    "\n",
    "#g_SDSS = flux + 0.93 * B_V - 0.05 # flux es r, que es el filtro que tenemos\n",
    "\n",
    "# Ahora calculo la magnitud Johnson en B\n",
    "B = g_SDSS + 0.39 * (g[j] - r[j]) + 0.21 #sigma 0.03\n",
    "\n",
    "'''\n",
    "# Para el caso en que Rc_Ic > 1.15, usamos Lupton 2005\n",
    "\n",
    "m_B = g[j] + 0.3130 * (g[j] - r[j]) + 0.2271\n",
    "m_R = r[j] - 0.1837 * (g[j] - r[j]) - 0.097\n",
    "m_V = g[j] - 0.5784*(g[j] - r[j]) - 0.0038\n",
    "\n",
    "g_SDSS = m_B - m_R + flux - (0.33130 + 0.1837) * (g[j] - r[j]) + (0.2271 + 0.0971)\n",
    "\n",
    "B = g_SDSS + 0.3130 * (g[j] - r[j]) + 0.2271\n",
    "'''\n",
    "# Calculo el brillo superficial convertido a Johnson\n",
    "mu = 30.0 - 2.5 * np.log10(B) + 2.5 * np.log10(pscale**2)\n",
    "#print(B - mu)"
   ]
  },
  {
   "cell_type": "markdown",
   "metadata": {},
   "source": [
    "## Limit selection"
   ]
  },
  {
   "cell_type": "code",
   "execution_count": 134,
   "metadata": {
    "collapsed": true
   },
   "outputs": [],
   "source": [
    "fig,(ax1) = plt.subplots(nrows=1, sharex=True)\n",
    "ax1.set_title('Este gráfico no lo guardo')\n",
    "#ax0.errorbar(sma, flux, fmt='-o')\n",
    "#ax0.set_ylabel('Flux (ADU)')\n",
    "\n",
    "ax1.errorbar(sma, mu, fmt='-d')\n",
    "plt.axhline(y=mu_lim, linewidth=1.5, color='r')\n",
    "#plt.axvline(x=sma_break, linewidth=1.5, color='b')\n",
    "#plt.plot(mu_lim, 'r-.', linewidth=1.5)\n",
    "#ax1.set_ylim((26, 16))\n",
    "ax1.set_xlabel('Galactocentric distance (arcsec)')\n",
    "ax1.set_ylabel('Surface Brightness (mag/arcsec$^2$)')\n",
    "\n",
    "ax1.invert_yaxis()\n",
    "\n",
    "plt.show()"
   ]
  },
  {
   "cell_type": "markdown",
   "metadata": {},
   "source": [
    "## Fitting the disk"
   ]
  },
  {
   "cell_type": "markdown",
   "metadata": {},
   "source": [
    "### Outer disk fitting"
   ]
  },
  {
   "cell_type": "code",
   "execution_count": 142,
   "metadata": {
    "collapsed": false
   },
   "outputs": [
    {
     "name": "stdout",
     "output_type": "stream",
     "text": [
      "$\\mu_0$ =  22.7699285751\n",
      "Pendiente =  0.0693875050228\n"
     ]
    }
   ],
   "source": [
    "rminodisk = 23.11\n",
    "rmaxodisk = 31.97\n",
    "\n",
    "m_odisk, b_odisk = np.polyfit(sma[(sma>rminodisk) & (sma<rmaxodisk)], mu[(sma>rminodisk) & (sma<rmaxodisk)], 1)\n",
    "yr_outdisk = np.polyval([m_odisk, b_odisk], sma)\n",
    "print('$\\mu_0$ = ', b_odisk)\n",
    "print('Pendiente = ', m_odisk)"
   ]
  },
  {
   "cell_type": "markdown",
   "metadata": {},
   "source": [
    "## Inner disk fitting"
   ]
  },
  {
   "cell_type": "code",
   "execution_count": 143,
   "metadata": {
    "collapsed": false
   },
   "outputs": [
    {
     "name": "stdout",
     "output_type": "stream",
     "text": [
      "$\\mu_0$ =  20.6729765923\n",
      "Pendiente =  0.163200917097\n"
     ]
    }
   ],
   "source": [
    "rmin_indisk = 2.23\n",
    "rmax_indisk = 23.10\n",
    "\n",
    "m_indisk, b_indisk = np.polyfit(sma[(sma>rmin_indisk) & (sma<rmax_indisk)], mu[(sma>rmin_indisk) & (sma<rmax_indisk)], 1)\n",
    "yr_indisk = np.polyval([m_indisk, b_indisk], sma)\n",
    "print('$\\mu_0$ = ', b_indisk)\n",
    "print('Pendiente = ', m_indisk)"
   ]
  },
  {
   "cell_type": "markdown",
   "metadata": {},
   "source": [
    "## Break between fits"
   ]
  },
  {
   "cell_type": "code",
   "execution_count": 144,
   "metadata": {
    "collapsed": false
   },
   "outputs": [
    {
     "name": "stdout",
     "output_type": "stream",
     "text": [
      "24.3209036758 22.3523687755\n"
     ]
    }
   ],
   "source": [
    "mu_break = ((m_indisk * b_odisk) - (m_odisk * b_indisk)) / (m_indisk - m_odisk)\n",
    "#mu_break = b_odisk\n",
    "\n",
    "# R_break\n",
    "sma_break = (b_odisk - b_indisk) / (m_indisk - m_odisk)\n",
    "#sma_break = 0.000\n",
    "print(mu_break, sma_break)"
   ]
  },
  {
   "cell_type": "markdown",
   "metadata": {},
   "source": [
    "# Graphics of the SB profile"
   ]
  },
  {
   "cell_type": "markdown",
   "metadata": {},
   "source": [
    "## 2 plots"
   ]
  },
  {
   "cell_type": "code",
   "execution_count": null,
   "metadata": {
    "collapsed": true
   },
   "outputs": [],
   "source": [
    "fig,(ax0, ax1) = plt.subplots(nrows=2, sharex=True)\n",
    "#ax0.set_title('%.3s, RA=%.3f, DEC=%.3f.' %(dat_name, RA, DEC))\n",
    "ax0.errorbar(sma, flux, fmt='-o')\n",
    "ax0.set_ylabel('Flux (ADU)')\n",
    "\n",
    "#plt.title('Lin reg coef: m=%.3f, $\\mu_{d, B}$=%.3f., $\\mu_{b, B}$=%.3f. -- disk: $r_{min}$=%.3f, $r_{max}$=%.3f.'\n",
    "#          %(md,bd,b,rmind,rmaxd))\n",
    "ax1.errorbar(sma, mu, fmt='-d')\n",
    "plt.plot(sma, yr_indisk, 'ro-', linewidth=1.5)\n",
    "#plt.legend(['LSB disk'], loc = 1)\n",
    "plt.plot(sma, yr_outdisk, 'go-', linewidth=1.5)\n",
    "\n",
    "plt.axhline(y=mu_lim, linewidth=1.5, color='r', linestyle='--')\n",
    "\n",
    "if b_indisk < lsb_Freeman and b_odisk > lsb_Freeman:\n",
    "    plt.legend(['HSB disk', 'LSB disk'], loc = 1)\n",
    "elif b_indisk > lsb_Freeman and b_odisk < lsb_Freeman:\n",
    "    plt.legend(['LSB disk', 'HSB disk'], loc = 1)\n",
    "elif b_indisk > lsb_Freeman and b_odisk > lsb_Freeman:\n",
    "    plt.legend(['LSB disk', 'LSB disk'], loc = 1)    \n",
    "\n",
    "'''\n",
    "plt.plot(sma, yr1, 'b^-', linewidth=1.5)\n",
    "plt.plot(sma, yr2, 'yv-', linewidth=1.5)\n",
    "#plt.title('Lin reg coef: m=%.3f, $\\mu_{d, B}$=%.3f., $\\mu_{b, B}$=%.3f., $\\mu_{1, B}$=%.3f., $\\mu_{2, B}$=%.3f.'\n",
    "#          %(m,bd,b,b1,b2))\n",
    "'''\n",
    "#ax1.set_ylim((26, 16))\n",
    "ax1.set_xlabel('Galactocentric distance (arcsec)')\n",
    "ax1.set_ylabel('Surf. Bright. (mag/arcsec$^2$)')\n",
    "\n",
    "ax1.invert_yaxis()\n",
    "\n",
    "multi_ajst = dat_name + '_4_Ajustes'\n",
    "\n",
    "plt.savefig('/home/feli/LSBs_TFM/Anlzds/TFM/%.3s.png' %(dat_name))\n",
    "#plt.savefig('/home/feli/LSBs_TFM/Anlzds/TFM/%.13s.png' %(multi_ajst))\n",
    "\n",
    "plt.show()"
   ]
  },
  {
   "cell_type": "markdown",
   "metadata": {},
   "source": [
    "## Only 1 plot"
   ]
  },
  {
   "cell_type": "code",
   "execution_count": 145,
   "metadata": {
    "collapsed": true
   },
   "outputs": [],
   "source": [
    "fig,(ax1) = plt.subplots(nrows=1, sharex=False)\n",
    "\n",
    "#plt.title('Lin reg coef: m=%.3f, $\\mu_{d, B}$=%.3f., $\\mu_{b, B}$=%.3f. -- disk: $r_{min}$=%.3f, $r_{max}$=%.3f.'\n",
    "#          %(md,bd,b,rmind,rmaxd))\n",
    "ax1.errorbar(sma, mu, fmt='-d')\n",
    "plt.plot(sma, yr_indisk, 'ro-', linewidth=1.5)\n",
    "plt.plot(sma, yr_outdisk, 'go-', linewidth=1.5)\n",
    "#plt.legend(['LSB disk'], loc = 1)\n",
    "\n",
    "plt.axhline(y=mu_lim, linewidth=1., color='r', linestyle='--')\n",
    "plt.errorbar(sma_break, mu_break, yerr=.5,  ecolor='black', linewidth=1., linestyle='--')\n",
    "\n",
    "ax1.annotate('$R_{break}$',\n",
    "            xy=(sma_break, mu_break), xycoords='data',\n",
    "            xytext=(-80, -60), textcoords='offset points',\n",
    "            arrowprops=dict(arrowstyle=\"->\",\n",
    "                            connectionstyle=\"arc3,rad=.2\"))\n",
    "\n",
    "\n",
    "if b_indisk < lsb_Freeman and b_odisk > lsb_Freeman:\n",
    "    plt.legend(['HSB disk', 'LSB disk'], loc = 1)\n",
    "elif b_indisk > lsb_Freeman and b_odisk < lsb_Freeman:\n",
    "    plt.legend(['LSB disk', 'HSB disk'], loc = 1)\n",
    "\n",
    "#ax1.set_ylim((26, 16))\n",
    "ax1.set_xlabel('Galactocentric distance (arcsec)')\n",
    "ax1.set_ylabel('Surf. Bright. (mag/arcsec$^2$)')\n",
    "\n",
    "ax1.invert_yaxis()\n",
    "\n",
    "Big_name = dat_name + '_Ampliada'\n",
    "multi_ajst = Big_name + '_4_Ajustes'\n",
    "\n",
    "#plt.savefig('/home/feli/LSBs_TFM/Anlzds/TFM/%.12s.png' %(Big_name))\n",
    "#plt.savefig('/home/feli/LSBs_TFM/Anlzds/TFM/%.18s.png' %(multi_ajst))\n",
    "\n",
    "plt.show()"
   ]
  },
  {
   "cell_type": "markdown",
   "metadata": {},
   "source": [
    "# Length scale"
   ]
  },
  {
   "cell_type": "code",
   "execution_count": null,
   "metadata": {
    "collapsed": true
   },
   "outputs": [],
   "source": [
    "#Cojo el disco externo porque quiero el disco entero\n",
    "m_r, b_r = np.polyfit((sma[(sma>rmin_indisk) & (sma<rmaxodisk)]), np.log(mu[(sma>rmin_indisk) & (sma<rmaxodisk)]/m_odisk)**4, 1)\n",
    "h_r_fit = np.polyval([m_r, b_r], 1./sma)\n",
    "print('$\\mu_0$ = ', b_r)\n",
    "print('Pendiente = ', m_r)\n",
    "h_r = b_r/1000.\n",
    "print('h_r_OUT en kpc es:', h_r)"
   ]
  },
  {
   "cell_type": "markdown",
   "metadata": {},
   "source": [
    "## Saving results and parameters"
   ]
  },
  {
   "cell_type": "code",
   "execution_count": null,
   "metadata": {
    "collapsed": true
   },
   "outputs": [],
   "source": [
    "argumento_write = str(obj[j]) + '    ' + str(RA[j]) + '    ' + str(DEC[j]) + '    ' + str(redshift[j]) + '    '\n",
    "argumento_write = argumento_write + str(u[j]) + '    ' + str(g[j]) + '    ' + str(r[j]) + '    ' + str(i_color[j])\n",
    "\n",
    "calculos_write = str(rminodisk) + '    ' + str(rmaxodisk) +  '    ' + str(b_odisk) + '    ' + str(m_odisk) + '    '\n",
    "calculos_write = calculos_write + str(rmin_indisk) + '    ' + str(rmax_indisk) + '    ' + str(b_indisk) + '    ' + str(m_indisk) + '    '\n",
    "\n",
    "magnitudes = str(mu_lim) + '    ' + str(B_V) + '    ' + str(m_B) + '    ' + str(m_V) + '    ' + str(b_indisk)\n",
    "magnitudes = magnitudes + '    ' + str(b_odisk) + '    ' + str(M_abs) + '    ' + str(d) + '    ' + str(h_r) + '    ' + str(mu_break)"
   ]
  },
  {
   "cell_type": "code",
   "execution_count": null,
   "metadata": {
    "collapsed": true
   },
   "outputs": [],
   "source": [
    "tipoI = False\n",
    "tipoII = False\n",
    "tipoIII = False"
   ]
  },
  {
   "cell_type": "code",
   "execution_count": null,
   "metadata": {
    "collapsed": true
   },
   "outputs": [],
   "source": [
    "if tipoI is true:\n",
    "\n",
    "### Saving IdObj, RA, DEC, u, g, r\n",
    "\n",
    "    HSBs_dat_util = open(path_HSB_Data+'Type_I_HSB__SDSS.dat', 'a') # Indicamos el valor 'w'.\n",
    "    HSBs_dat_util.write(argumento_write+'\\n')\n",
    "    HSBs_dat_util.close()\n",
    "\n",
    "### Saving fitting parameters\n",
    "\n",
    "    HSBs_calc = open(path_HSB_Data+'Type_I_HSB__param.dat', 'a') # Indicamos el valor 'w'.\n",
    "    HSBs_calc.write(calculos_write+'\\n')\n",
    "    HSBs_calc.close()\n",
    "\n",
    "### Saving magnitude calculus\n",
    "\n",
    "    HSBs_mag = open(path_HSB_Data+'Type_I_HSB_mag.dat', 'a') # Indicamos el valor 'w'.\n",
    "    HSBs_mag.write(magnitudes+'\\n')\n",
    "    HSBs_mag.close()\n",
    "\n",
    "### Saving limiting magnitude data\n",
    "\n",
    "    HBs_dat_util = open(path_HSB_Data+'Type_I_HSB_mag_lim.dat', 'a') # Indicamos el valor 'w'.\n",
    "    HBs_dat_util.write(mag_lim+'\\n')\n",
    "    HBs_dat_util.close()\n",
    "    \n",
    "if tipoII is true:\n",
    "\n",
    "### Saving IdObj, RA, DEC, u, g, r\n",
    "\n",
    "    HSBs_dat_util = open(path_HSB_Data+'Type_II_HSB__SDSS.dat', 'a') # Indicamos el valor 'w'.\n",
    "    HSBs_dat_util.write(argumento_write+'\\n')\n",
    "    HSBs_dat_util.close()\n",
    "\n",
    "### Saving fitting parameters\n",
    "\n",
    "    HSBs_calc = open(path_HSB_Data+'Type_II_HSB__param.dat', 'a') # Indicamos el valor 'w'.\n",
    "    HSBs_calc.write(calculos_write+'\\n')\n",
    "    HSBs_calc.close()\n",
    "\n",
    "### Saving magnitude calculus\n",
    "\n",
    "    HSBs_mag = open(path_HSB_Data+'Type_II_HSB_mag.dat', 'a') # Indicamos el valor 'w'.\n",
    "    HSBs_mag.write(magnitudes+'\\n')\n",
    "    HSBs_mag.close()\n",
    "\n",
    "### Saving limiting magnitude data\n",
    "\n",
    "    HBs_dat_util = open(path_HSB_Data+'Type_II_HSB_mag_lim.dat', 'a') # Indicamos el valor 'w'.\n",
    "    HBs_dat_util.write(mag_lim+'\\n')\n",
    "    HBs_dat_util.close()\n",
    "\n",
    "if tipoIII is true:\n",
    "\n",
    "### Saving IdObj, RA, DEC, u, g, r\n",
    "\n",
    "    HSBs_dat_util = open(path_HSB_Data+'Type_III_HSB__SDSS.dat', 'a') # Indicamos el valor 'w'.\n",
    "    HSBs_dat_util.write(argumento_write+'\\n')\n",
    "    HSBs_dat_util.close()\n",
    "\n",
    "### Saving fitting parameters\n",
    "\n",
    "    HSBs_calc = open(path_HSB_Data+'Type_III_HSB__param.dat', 'a') # Indicamos el valor 'w'.\n",
    "    HSBs_calc.write(calculos_write+'\\n')\n",
    "    HSBs_calc.close()\n",
    "\n",
    "### Saving magnitude calculus\n",
    "\n",
    "    HSBs_mag = open(path_HSB_Data+'Type_III_HSB_mag.dat', 'a') # Indicamos el valor 'w'.\n",
    "    HSBs_mag.write(magnitudes+'\\n')\n",
    "    HSBs_mag.close()\n",
    "\n",
    "### Saving limiting magnitude data\n",
    "\n",
    "    HBs_dat_util = open(path_HSB_Data+'Type_III_HSB_mag_lim.dat', 'a') # Indicamos el valor 'w'.\n",
    "    HBs_dat_util.write(mag_lim+'\\n')\n",
    "    HBs_dat_util.close()"
   ]
  },
  {
   "cell_type": "code",
   "execution_count": null,
   "metadata": {
    "collapsed": true
   },
   "outputs": [],
   "source": []
  },
  {
   "cell_type": "code",
   "execution_count": null,
   "metadata": {
    "collapsed": true
   },
   "outputs": [],
   "source": []
  }
 ],
 "metadata": {
  "kernelspec": {
   "display_name": "Python 3",
   "language": "python",
   "name": "python3"
  },
  "language_info": {
   "codemirror_mode": {
    "name": "ipython",
    "version": 3
   },
   "file_extension": ".py",
   "mimetype": "text/x-python",
   "name": "python",
   "nbconvert_exporter": "python",
   "pygments_lexer": "ipython3",
   "version": "3.6.0"
  }
 },
 "nbformat": 4,
 "nbformat_minor": 2
}
