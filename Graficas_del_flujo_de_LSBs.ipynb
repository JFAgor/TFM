{
 "cells": [
  {
   "cell_type": "markdown",
   "metadata": {},
   "source": [
    "# Surface brightness profile of LSBs"
   ]
  },
  {
   "cell_type": "code",
   "execution_count": 12,
   "metadata": {
    "collapsed": false
   },
   "outputs": [
    {
     "name": "stdout",
     "output_type": "stream",
     "text": [
      "Using matplotlib backend: Qt5Agg\n"
     ]
    }
   ],
   "source": [
    "import glob\n",
    "import numpy as np\n",
    "import matplotlib.pyplot as plt\n",
    "from astropy.io import fits\n",
    "%matplotlib"
   ]
  },
  {
   "cell_type": "markdown",
   "metadata": {},
   "source": [
    "## Giving the path"
   ]
  },
  {
   "cell_type": "code",
   "execution_count": 2,
   "metadata": {
    "collapsed": false
   },
   "outputs": [],
   "source": [
    "path = '/home/feli/Galaxias_LSBs_TFM/images/Datos/'"
   ]
  },
  {
   "cell_type": "markdown",
   "metadata": {},
   "source": [
    "## Reading the data"
   ]
  },
  {
   "cell_type": "code",
   "execution_count": 3,
   "metadata": {
    "collapsed": true
   },
   "outputs": [],
   "source": [
    "LSBs_list = sorted(glob.glob(path+'*.dat'))"
   ]
  },
  {
   "cell_type": "code",
   "execution_count": 21,
   "metadata": {
    "collapsed": false
   },
   "outputs": [],
   "source": [
    "LSBs_raw_data = np.genfromtxt(LSBs_list[0], comments='#')[:,0:]"
   ]
  },
  {
   "cell_type": "code",
   "execution_count": 23,
   "metadata": {
    "collapsed": false
   },
   "outputs": [
    {
     "name": "stdout",
     "output_type": "stream",
     "text": [
      "/home/feli/Galaxias_LSBs_TFM/images/Datos/002.dat 195  a las que sacar los datos\n"
     ]
    }
   ],
   "source": [
    "print(LSBs_list[0], 746 - 551, ' a las que sacar los datos')"
   ]
  },
  {
   "cell_type": "code",
   "execution_count": 20,
   "metadata": {
    "collapsed": false
   },
   "outputs": [
    {
     "ename": "IndexError",
     "evalue": "list index out of range",
     "output_type": "error",
     "traceback": [
      "\u001b[0;31m---------------------------------------------------------------------------\u001b[0m",
      "\u001b[0;31mIndexError\u001b[0m                                Traceback (most recent call last)",
      "\u001b[0;32m<ipython-input-20-2bec0c869ac0>\u001b[0m in \u001b[0;36m<module>\u001b[0;34m()\u001b[0m\n\u001b[1;32m      1\u001b[0m \u001b[0mfileList\u001b[0m \u001b[0;34m=\u001b[0m \u001b[0;34m[\u001b[0m\u001b[0;34m]\u001b[0m\u001b[0;34m\u001b[0m\u001b[0m\n\u001b[1;32m      2\u001b[0m \u001b[0mfileList\u001b[0m \u001b[0;34m=\u001b[0m \u001b[0msorted\u001b[0m\u001b[0;34m(\u001b[0m\u001b[0mglob\u001b[0m\u001b[0;34m.\u001b[0m\u001b[0mglob\u001b[0m\u001b[0;34m(\u001b[0m\u001b[0mpath\u001b[0m\u001b[0;34m+\u001b[0m\u001b[0;34m'*.fits'\u001b[0m\u001b[0;34m)\u001b[0m\u001b[0;34m)\u001b[0m\u001b[0;34m\u001b[0m\u001b[0m\n\u001b[0;32m----> 3\u001b[0;31m \u001b[0mhdulist\u001b[0m \u001b[0;34m=\u001b[0m \u001b[0mfits\u001b[0m\u001b[0;34m.\u001b[0m\u001b[0mopen\u001b[0m\u001b[0;34m(\u001b[0m\u001b[0mfileList\u001b[0m\u001b[0;34m[\u001b[0m\u001b[0;36m1\u001b[0m\u001b[0;34m]\u001b[0m\u001b[0;34m)\u001b[0m\u001b[0;31m#It has to be [0]!!!\u001b[0m\u001b[0;34m\u001b[0m\u001b[0m\n\u001b[0m\u001b[1;32m      4\u001b[0m \u001b[0;31m#hdulist[1].header\u001b[0m\u001b[0;34m\u001b[0m\u001b[0;34m\u001b[0m\u001b[0m\n",
      "\u001b[0;31mIndexError\u001b[0m: list index out of range"
     ]
    }
   ],
   "source": [
    "fileList = []\n",
    "fileList = sorted(glob.glob(path+'*.fits'))\n",
    "hdulist = fits.open(fileList[1])#It has to be [0]!!!\n",
    "#hdulist[1].header"
   ]
  },
  {
   "cell_type": "markdown",
   "metadata": {},
   "source": [
    "## This is the pixel scale"
   ]
  },
  {
   "cell_type": "code",
   "execution_count": 24,
   "metadata": {
    "collapsed": true
   },
   "outputs": [],
   "source": [
    "pscale = 0.396 #(\"/pix) from the SDSS data base"
   ]
  },
  {
   "cell_type": "markdown",
   "metadata": {},
   "source": [
    "## Leo los datos con los que voy a operar"
   ]
  },
  {
   "cell_type": "code",
   "execution_count": 25,
   "metadata": {
    "collapsed": false
   },
   "outputs": [],
   "source": [
    "sma = LSBs_raw_data[:, 0] * pscale #Semi-major axis\n",
    "flux = LSBs_raw_data[:, 1]"
   ]
  },
  {
   "cell_type": "markdown",
   "metadata": {
    "collapsed": false
   },
   "source": [
    "# Mis galaxias estan en 'r' por lo que tendré que usar l color integrado (g-r) para obtener g y pasar a Johnson"
   ]
  },
  {
   "cell_type": "markdown",
   "metadata": {},
   "source": [
    "# B = g + 0.3130*(g - r) + 0.2271;  $\\sigma$ = 0.0107"
   ]
  },
  {
   "cell_type": "markdown",
   "metadata": {},
   "source": [
    "Para la LSB 002\n",
    "muErr_g\t0.01765876\n",
    "muErr_r\t0.04626679\n",
    "\n",
    "## Longitud de escala del disco,  $h_z\\propto\\Big(\\dfrac{R}{h}\\Big)2\\exp\\Big(\\dfrac{−R}{h}\\Big)$"
   ]
  },
  {
   "cell_type": "code",
   "execution_count": 42,
   "metadata": {
    "collapsed": true
   },
   "outputs": [],
   "source": [
    "h_z = sma * 2. * np.exp(-sma)"
   ]
  },
  {
   "cell_type": "markdown",
   "metadata": {},
   "source": [
    "## Graficos de flujo vs. radio galactocentrico y $\\mu$ frente a R"
   ]
  },
  {
   "cell_type": "code",
   "execution_count": 32,
   "metadata": {
    "collapsed": false
   },
   "outputs": [],
   "source": [
    "fig,(ax0, ax1) = plt.subplots(nrows=2, sharex=True)\n",
    "ax0.set_title('441')\n",
    "ax0.errorbar(sma, flux, fmt='-o')\n",
    "ax0.set_ylabel('Flux (ADU)')\n",
    "\n",
    "mu = 30 - 2.5 * np.log10(flux) + 2.5 * np.log10(pscale**2)\n",
    "#g = 18.11\n",
    "#B = g + 0.3130*(g - r) + 0.2271#;  sigma = 0.0107\n",
    "#mu = B\n",
    "\n",
    "ax1.errorbar(sma, mu, fmt='-d')\n",
    "#ax1.set_ylim((26, 16))\n",
    "ax1.set_xlabel('Galactocentric distance (arcsec)')\n",
    "ax1.set_ylabel('Surface Brightness (mag/arcsec$^2$)')\n",
    "\n",
    "ax1.invert_yaxis()\n",
    "\n",
    "plt.show()"
   ]
  },
  {
   "cell_type": "markdown",
   "metadata": {},
   "source": [
    "## Ajuste lineal al disco para obtener la longitud de escala"
   ]
  },
  {
   "cell_type": "code",
   "execution_count": 69,
   "metadata": {
    "collapsed": false
   },
   "outputs": [
    {
     "name": "stdout",
     "output_type": "stream",
     "text": [
      "$\\mu_0$ =  20.509042906\n",
      "Pendiente =  0.532853131079\n"
     ]
    }
   ],
   "source": [
    "rmin = 2.0\n",
    "rmax = 9.5\n",
    "\n",
    "m, b = np.polyfit(sma[(sma>rmin) & (sma<rmax)], mu[(sma>rmin) & (sma<rmax)], 1)\n",
    "print('$\\mu_0$ = ', b)\n",
    "print('Pendiente = ', m)"
   ]
  },
  {
   "cell_type": "code",
   "execution_count": 73,
   "metadata": {
    "collapsed": false
   },
   "outputs": [
    {
     "ename": "NameError",
     "evalue": "name 'x' is not defined",
     "output_type": "error",
     "traceback": [
      "\u001b[0;31m---------------------------------------------------------------------------\u001b[0m",
      "\u001b[0;31mNameError\u001b[0m                                 Traceback (most recent call last)",
      "\u001b[0;32m<ipython-input-73-f4886a5cac1a>\u001b[0m in \u001b[0;36m<module>\u001b[0;34m()\u001b[0m\n\u001b[1;32m      1\u001b[0m \u001b[0mxp\u001b[0m \u001b[0;34m=\u001b[0m \u001b[0mnp\u001b[0m\u001b[0;34m.\u001b[0m\u001b[0mlinspace\u001b[0m\u001b[0;34m(\u001b[0m\u001b[0;34m-\u001b[0m\u001b[0;36m2\u001b[0m\u001b[0;34m,\u001b[0m \u001b[0;36m6\u001b[0m\u001b[0;34m,\u001b[0m \u001b[0;36m100\u001b[0m\u001b[0;34m)\u001b[0m\u001b[0;34m\u001b[0m\u001b[0m\n\u001b[0;32m----> 2\u001b[0;31m \u001b[0ma\u001b[0m \u001b[0;34m=\u001b[0m \u001b[0mplt\u001b[0m\u001b[0;34m.\u001b[0m\u001b[0mplot\u001b[0m\u001b[0;34m(\u001b[0m\u001b[0mx\u001b[0m\u001b[0;34m,\u001b[0m \u001b[0my\u001b[0m\u001b[0;34m,\u001b[0m \u001b[0;34m'.'\u001b[0m\u001b[0;34m,\u001b[0m \u001b[0mxp\u001b[0m\u001b[0;34m,\u001b[0m \u001b[0mp\u001b[0m\u001b[0;34m(\u001b[0m\u001b[0mxp\u001b[0m\u001b[0;34m)\u001b[0m\u001b[0;34m,\u001b[0m \u001b[0;34m'-'\u001b[0m\u001b[0;34m,\u001b[0m \u001b[0mxp\u001b[0m\u001b[0;34m,\u001b[0m \u001b[0mp30\u001b[0m\u001b[0;34m(\u001b[0m\u001b[0mxp\u001b[0m\u001b[0;34m)\u001b[0m\u001b[0;34m,\u001b[0m \u001b[0;34m'--'\u001b[0m\u001b[0;34m)\u001b[0m\u001b[0;34m\u001b[0m\u001b[0m\n\u001b[0m\u001b[1;32m      3\u001b[0m \u001b[0mplt\u001b[0m\u001b[0;34m.\u001b[0m\u001b[0mylim\u001b[0m\u001b[0;34m(\u001b[0m\u001b[0;34m-\u001b[0m\u001b[0;36m2\u001b[0m\u001b[0;34m,\u001b[0m\u001b[0;36m2\u001b[0m\u001b[0;34m)\u001b[0m\u001b[0;34m\u001b[0m\u001b[0m\n\u001b[1;32m      4\u001b[0m \u001b[0;34m\u001b[0m\u001b[0m\n\u001b[1;32m      5\u001b[0m \u001b[0mplt\u001b[0m\u001b[0;34m.\u001b[0m\u001b[0mshow\u001b[0m\u001b[0;34m(\u001b[0m\u001b[0;34m)\u001b[0m\u001b[0;34m\u001b[0m\u001b[0m\n",
      "\u001b[0;31mNameError\u001b[0m: name 'x' is not defined"
     ]
    }
   ],
   "source": [
    "xp = np.linspace(-2, 6, 100)\n",
    "a = plt.plot(x, y, '.', xp, p(xp), '-', xp, p30(xp), '--')\n",
    "plt.ylim(-2,2)\n",
    "\n",
    "plt.show()"
   ]
  },
  {
   "cell_type": "code",
   "execution_count": 64,
   "metadata": {
    "collapsed": false
   },
   "outputs": [],
   "source": [
    "fig,(ax0, ax1) = plt.subplots(nrows=2, sharex=True)\n",
    "ax0.set_title('002, RA = 357.556, DEC = -0.782422')\n",
    "ax0.errorbar(sma, flux, fmt='-o')\n",
    "ax0.set_ylabel('Flux (ADU)')\n",
    "\n",
    "mu = 30 - 2.5 * np.log10(flux) + 2.5 * np.log10(pscale**2)\n",
    "#g = 18.11\n",
    "#B = g + 0.3130*(g - r) + 0.2271#;  sigma = 0.0107\n",
    "#mu = B\n",
    "\n",
    "plt.title('Linear regression coefficents: m=%.3f, b=%.3f.' %(m,b))\n",
    "ax1.errorbar(sma, mu, fmt='-d')\n",
    "#ax1.set_ylim((26, 16))\n",
    "ax1.set_xlabel('Galactocentric distance (arcsec)')\n",
    "ax1.set_ylabel('Surf. Bright. (mag/arcsec$^2$)')\n",
    "\n",
    "ax1.invert_yaxis()\n",
    "\n",
    "plt.savefig(path+'/Analizadas/002.png')\n",
    "plt.show()"
   ]
  },
  {
   "cell_type": "code",
   "execution_count": 75,
   "metadata": {
    "collapsed": true
   },
   "outputs": [],
   "source": [
    "fig,(ax1, ax2) = plt.subplots(nrows=2, sharex=False)\n",
    "# Pintamos el brillo superficial\n",
    "ax1.set_title('002, RA = 357.556, DEC = -0.782422')\n",
    "\n",
    "mu = 30 - 2.5 * np.log10(flux) + 2.5 * np.log10(pscale**2)\n",
    "#g = 18.11\n",
    "#B = g + 0.3130*(g - r) + 0.2271#;  sigma = 0.0107\n",
    "#mu = B\n",
    "\n",
    "plt.title('Linear regression coefficents: m=%.3f, b=%.3f.' %(m,b))\n",
    "ax1.errorbar(sma, mu, fmt='-d')\n",
    "#ax1.set_ylim((26, 16))\n",
    "ax1.set_ylabel('Surf. Bright. (mag/arcsec$^2$)')\n",
    "\n",
    "ax1.invert_yaxis()\n",
    "\n",
    "# Pinto el ajuste\n",
    "\n",
    "ax2.set_xlabel('Galactocentric lenghtscale (arcsec)')\n",
    "ax2.errorbar(m,b)\n",
    "\n",
    "plt.savefig(path+'/Analizadas/ajuste_002.png')\n",
    "plt.show()"
   ]
  },
  {
   "cell_type": "code",
   "execution_count": 24,
   "metadata": {
    "collapsed": false
   },
   "outputs": [
    {
     "data": {
      "image/png": "[encoded data removed]",
      "text/plain": [
       "<matplotlib.figure.Figure at 0x7f2764510400>"
      ]
     },
     "metadata": {},
     "output_type": "display_data"
    }
   ],
   "source": [
    "sma, flux, aux1, aux2  = np.loadtxt(path+\"441.dat\", unpack=True) #Llamo al archivo de texto que quiero pintar\n",
    "\n",
    "plt.figure(1) #Empiezo una nueva figura\n",
    "plt.plot(sma, flux, \"bd\", label=\"Flux\", alpha=.5)  #Le digo lo que quiero que me pinte, \"bo--\" = blue \"circle\" con linea discontinua\n",
    "#plt.plot(x, z, \"r^:\", label=\"cos\", alpha=.5) #El \"r^: me pone el color de este segundo plot\"\n",
    "#el alpha es la transparencia de los puntos que pinta, el color\n",
    "\n",
    "#le ponemos las etiquetas al grafico\n",
    "plt.xlabel(\"R (kpc)\")\n",
    "plt.ylabel(\"Flux (erg/s)\")#como meto el formato LaTeX?\n",
    "plt.legend()\n",
    "plt.savefig('Flux_disk.eps')\n",
    "plt.show() #Ahora le digo que me lo pinte"
   ]
  }
 ],
 "metadata": {
  "anaconda-cloud": {},
  "kernelspec": {
   "display_name": "Python 3",
   "language": "python",
   "name": "python3"
  },
  "language_info": {
   "codemirror_mode": {
    "name": "ipython",
    "version": 3
   },
   "file_extension": ".py",
   "mimetype": "text/x-python",
   "name": "python",
   "nbconvert_exporter": "python",
   "pygments_lexer": "ipython3",
   "version": "3.6.0"
  }
 },
 "nbformat": 4,
 "nbformat_minor": 0
}
